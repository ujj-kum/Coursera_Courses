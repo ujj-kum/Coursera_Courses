{
  "cells": [
    {
      "cell_type": "markdown",
      "metadata": {
        "id": "ZL_6GK8qX35J"
      },
      "source": [
        "\n",
        "\n",
        "# Week 1: Multiple Output Models using the Keras Functional API\n",
        "\n",
        "Welcome to the first programming assignment of the course! Your task will be to use the Keras functional API to train a model to predict two outputs. For this lab, you will use the **[Wine Quality Dataset](https://archive.ics.uci.edu/ml/datasets/Wine+Quality)** from the **UCI machine learning repository**. It has separate datasets for red wine and white wine.\n",
        "\n",
        "Normally, the wines are classified into one of the quality ratings specified in the attributes. In this exercise, you will combine the two datasets to predict the wine quality and whether the wine is red or white solely from the attributes.\n",
        "\n",
        "You will model wine quality estimations as a regression problem and wine type detection as a binary classification problem.\n",
        "\n",
        "#### Please complete sections that are marked **(TODO)**"
      ]
    },
    {
      "cell_type": "markdown",
      "metadata": {
        "id": "obdcD6urYBY9"
      },
      "source": [
        "## Imports"
      ]
    },
    {
      "cell_type": "code",
      "execution_count": null,
      "metadata": {
        "id": "t8N3pcTQ5oQI"
      },
      "outputs": [],
      "source": [
        "import tensorflow as tf\n",
        "from tensorflow.keras.models import Model\n",
        "from tensorflow.keras.layers import Dense, Input\n",
        "\n",
        "import numpy as np\n",
        "import matplotlib.pyplot as plt\n",
        "import pandas as pd\n",
        "from sklearn.model_selection import train_test_split\n",
        "from sklearn.metrics import confusion_matrix, ConfusionMatrixDisplay\n",
        "import itertools\n",
        "\n",
        "import utils"
      ]
    },
    {
      "cell_type": "markdown",
      "metadata": {
        "id": "gQMERzWQYpgm"
      },
      "source": [
        "## Load Dataset\n",
        "\n",
        "\n",
        "You will now load the dataset from the [UCI Machine Learning Repository](https://archive.ics.uci.edu/ml/index.php) which are **already saved** in your workspace (*Note: For successful grading, please **do not** modify the default string set to the `URI` variable below*).\n",
        "\n",
        "### Pre-process the white wine dataset (TODO)\n",
        "You will add a new column named `is_red` in your dataframe to indicate if the wine is white or red.\n",
        "- In the white wine dataset, you will fill the column `is_red` with  zeros (0)."
      ]
    },
    {
      "cell_type": "code",
      "execution_count": null,
      "metadata": {
        "deletable": false,
        "id": "2qYAjKXCd4RH",
        "nbgrader": {
          "cell_type": "code",
          "checksum": "325ea195519b7035934c95bb529a062c",
          "grade": false,
          "grade_id": "cell-e5bfa0f152d9a21f",
          "locked": false,
          "schema_version": 3,
          "solution": true,
          "task": false
        }
      },
      "outputs": [],
      "source": [
        "# Please uncomment all lines in this cell and replace those marked with `# YOUR CODE HERE`.\n",
        "# You can select all lines in this code cell with Ctrl+A (Windows/Linux) or Cmd+A (Mac), then press Ctrl+/ (Windows/Linux) or Cmd+/ (Mac) to uncomment.\n",
        "\n",
        "\n",
        "\n",
        "# URL of the white wine dataset\n",
        "URI = './winequality-white.csv'\n",
        "\n",
        "# load the dataset from the URL\n",
        "white_df = pd.read_csv(URI, sep=\";\")\n",
        "\n",
        "\n",
        "# fill the `is_red` column with zeros.\n",
        "white_df[\"is_red\"] = 0\n",
        "#(white_df.head())\n",
        "#print(len(white_df), white_df.duplicated().sum())\n",
        "# keep only the first of duplicate items\n",
        "white_df = white_df.drop_duplicates(keep='first')\n",
        "#print(len(white_df))"
      ]
    },
    {
      "cell_type": "code",
      "execution_count": null,
      "metadata": {
        "deletable": false,
        "editable": false,
        "nbgrader": {
          "cell_type": "code",
          "checksum": "defe38d6ec58fd31cd67b89e46c4373f",
          "grade": true,
          "grade_id": "cell-30575e713b55fc51",
          "locked": true,
          "points": 1,
          "schema_version": 3,
          "solution": false,
          "task": false
        },
        "id": "Z8RO7GDyiqSF",
        "outputId": "53dc554c-a174-4da1-bbe8-ec09d40d5323"
      },
      "outputs": [
        {
          "name": "stdout",
          "output_type": "stream",
          "text": [
            "\u001b[92m All public tests passed\n"
          ]
        }
      ],
      "source": [
        "# You can click `File -> Open` in the menu above and open the `utils.py` file\n",
        "# in case you want to inspect the unit tests being used for each graded function.\n",
        "\n",
        "utils.test_white_df(white_df)\n"
      ]
    },
    {
      "cell_type": "code",
      "execution_count": null,
      "metadata": {
        "id": "OQHK0ohBQRCk",
        "outputId": "bd065a2f-8932-4ad3-d1c8-8d399c0f3c70"
      },
      "outputs": [
        {
          "name": "stdout",
          "output_type": "stream",
          "text": [
            "8.8\n",
            "9.1\n"
          ]
        }
      ],
      "source": [
        "print(white_df.alcohol[0])\n",
        "print(white_df.alcohol[100])\n",
        "\n",
        "# EXPECTED OUTPUT\n",
        "# 8.8\n",
        "# 9.1"
      ]
    },
    {
      "cell_type": "markdown",
      "metadata": {
        "id": "xpREDiSriqSH"
      },
      "source": [
        "### Pre-process the red wine dataset (TODO)\n",
        "- In the red wine dataset, you will fill in the column `is_red` with ones (1)."
      ]
    },
    {
      "cell_type": "code",
      "execution_count": null,
      "metadata": {
        "deletable": false,
        "id": "8y3QxKwBed8v",
        "nbgrader": {
          "cell_type": "code",
          "checksum": "12e0963d15be33b01b4e6ebc8945e51e",
          "grade": false,
          "grade_id": "cell-e47a40f306593274",
          "locked": false,
          "schema_version": 3,
          "solution": true,
          "task": false
        }
      },
      "outputs": [],
      "source": [
        "# Please uncomment all lines in this cell and replace those marked with `# YOUR CODE HERE`.\n",
        "# You can select all lines in this code cell with Ctrl+A (Windows/Linux) or Cmd+A (Mac), then press Ctrl+/ (Windows/Linux) or Cmd+/ (Mac) to uncomment.\n",
        "\n",
        "\n",
        "\n",
        "# URL of the red wine dataset\n",
        "URI = './winequality-red.csv'\n",
        "\n",
        "# load the dataset from the URL\n",
        "red_df = pd.read_csv(URI, sep=\";\")\n",
        "\n",
        "# fill the `is_red` column with ones.\n",
        "red_df[\"is_red\"] = 1\n",
        "\n",
        "# keep only the first of duplicate items\n",
        "red_df = red_df.drop_duplicates(keep='first')\n"
      ]
    },
    {
      "cell_type": "code",
      "execution_count": null,
      "metadata": {
        "deletable": false,
        "editable": false,
        "nbgrader": {
          "cell_type": "code",
          "checksum": "d8e0c91b0fd668b63ba74a8f2f958b59",
          "grade": true,
          "grade_id": "cell-2a75937adcc0c25b",
          "locked": true,
          "points": 1,
          "schema_version": 3,
          "solution": false,
          "task": false
        },
        "id": "Sr8KOe8PiqSI",
        "outputId": "a893ff6c-47e7-40c2-d72c-d53a1afb1443"
      },
      "outputs": [
        {
          "name": "stdout",
          "output_type": "stream",
          "text": [
            "\u001b[92m All public tests passed\n"
          ]
        }
      ],
      "source": [
        "utils.test_red_df(red_df)\n"
      ]
    },
    {
      "cell_type": "code",
      "execution_count": null,
      "metadata": {
        "id": "zsB3LUzNQpo_",
        "outputId": "f41dbb08-260c-4243-a64c-070f7b0b29c7"
      },
      "outputs": [
        {
          "name": "stdout",
          "output_type": "stream",
          "text": [
            "9.4\n",
            "10.2\n"
          ]
        }
      ],
      "source": [
        "print(red_df.alcohol[0])\n",
        "print(red_df.alcohol[100])\n",
        "\n",
        "# EXPECTED OUTPUT\n",
        "# 9.4\n",
        "# 10.2"
      ]
    },
    {
      "cell_type": "markdown",
      "metadata": {
        "id": "2G8B-NYuM6-f"
      },
      "source": [
        "### Concatenate the datasets\n",
        "\n",
        "Next, concatenate the red and white wine dataframes."
      ]
    },
    {
      "cell_type": "code",
      "execution_count": null,
      "metadata": {
        "id": "FGWJDP5EiqSK",
        "outputId": "9fb7e755-d8a2-4e62-b85f-bfe90cc09fb1"
      },
      "outputs": [
        {
          "data": {
            "text/html": [
              "<div>\n",
              "<style scoped>\n",
              "    .dataframe tbody tr th:only-of-type {\n",
              "        vertical-align: middle;\n",
              "    }\n",
              "\n",
              "    .dataframe tbody tr th {\n",
              "        vertical-align: top;\n",
              "    }\n",
              "\n",
              "    .dataframe thead th {\n",
              "        text-align: right;\n",
              "    }\n",
              "</style>\n",
              "<table border=\"1\" class=\"dataframe\">\n",
              "  <thead>\n",
              "    <tr style=\"text-align: right;\">\n",
              "      <th></th>\n",
              "      <th>fixed acidity</th>\n",
              "      <th>volatile acidity</th>\n",
              "      <th>citric acid</th>\n",
              "      <th>residual sugar</th>\n",
              "      <th>chlorides</th>\n",
              "      <th>free sulfur dioxide</th>\n",
              "      <th>total sulfur dioxide</th>\n",
              "      <th>density</th>\n",
              "      <th>pH</th>\n",
              "      <th>sulphates</th>\n",
              "      <th>alcohol</th>\n",
              "      <th>quality</th>\n",
              "      <th>is_red</th>\n",
              "    </tr>\n",
              "  </thead>\n",
              "  <tbody>\n",
              "    <tr>\n",
              "      <th>0</th>\n",
              "      <td>7.4</td>\n",
              "      <td>0.70</td>\n",
              "      <td>0.00</td>\n",
              "      <td>1.9</td>\n",
              "      <td>0.076</td>\n",
              "      <td>11.0</td>\n",
              "      <td>34.0</td>\n",
              "      <td>0.9978</td>\n",
              "      <td>3.51</td>\n",
              "      <td>0.56</td>\n",
              "      <td>9.4</td>\n",
              "      <td>5</td>\n",
              "      <td>1</td>\n",
              "    </tr>\n",
              "    <tr>\n",
              "      <th>1</th>\n",
              "      <td>7.8</td>\n",
              "      <td>0.88</td>\n",
              "      <td>0.00</td>\n",
              "      <td>2.6</td>\n",
              "      <td>0.098</td>\n",
              "      <td>25.0</td>\n",
              "      <td>67.0</td>\n",
              "      <td>0.9968</td>\n",
              "      <td>3.20</td>\n",
              "      <td>0.68</td>\n",
              "      <td>9.8</td>\n",
              "      <td>5</td>\n",
              "      <td>1</td>\n",
              "    </tr>\n",
              "    <tr>\n",
              "      <th>2</th>\n",
              "      <td>7.8</td>\n",
              "      <td>0.76</td>\n",
              "      <td>0.04</td>\n",
              "      <td>2.3</td>\n",
              "      <td>0.092</td>\n",
              "      <td>15.0</td>\n",
              "      <td>54.0</td>\n",
              "      <td>0.9970</td>\n",
              "      <td>3.26</td>\n",
              "      <td>0.65</td>\n",
              "      <td>9.8</td>\n",
              "      <td>5</td>\n",
              "      <td>1</td>\n",
              "    </tr>\n",
              "    <tr>\n",
              "      <th>3</th>\n",
              "      <td>11.2</td>\n",
              "      <td>0.28</td>\n",
              "      <td>0.56</td>\n",
              "      <td>1.9</td>\n",
              "      <td>0.075</td>\n",
              "      <td>17.0</td>\n",
              "      <td>60.0</td>\n",
              "      <td>0.9980</td>\n",
              "      <td>3.16</td>\n",
              "      <td>0.58</td>\n",
              "      <td>9.8</td>\n",
              "      <td>6</td>\n",
              "      <td>1</td>\n",
              "    </tr>\n",
              "    <tr>\n",
              "      <th>5</th>\n",
              "      <td>7.4</td>\n",
              "      <td>0.66</td>\n",
              "      <td>0.00</td>\n",
              "      <td>1.8</td>\n",
              "      <td>0.075</td>\n",
              "      <td>13.0</td>\n",
              "      <td>40.0</td>\n",
              "      <td>0.9978</td>\n",
              "      <td>3.51</td>\n",
              "      <td>0.56</td>\n",
              "      <td>9.4</td>\n",
              "      <td>5</td>\n",
              "      <td>1</td>\n",
              "    </tr>\n",
              "  </tbody>\n",
              "</table>\n",
              "</div>"
            ],
            "text/plain": [
              "   fixed acidity  volatile acidity  citric acid  residual sugar  chlorides  \\\n",
              "0            7.4              0.70         0.00             1.9      0.076   \n",
              "1            7.8              0.88         0.00             2.6      0.098   \n",
              "2            7.8              0.76         0.04             2.3      0.092   \n",
              "3           11.2              0.28         0.56             1.9      0.075   \n",
              "5            7.4              0.66         0.00             1.8      0.075   \n",
              "\n",
              "   free sulfur dioxide  total sulfur dioxide  density    pH  sulphates  \\\n",
              "0                 11.0                  34.0   0.9978  3.51       0.56   \n",
              "1                 25.0                  67.0   0.9968  3.20       0.68   \n",
              "2                 15.0                  54.0   0.9970  3.26       0.65   \n",
              "3                 17.0                  60.0   0.9980  3.16       0.58   \n",
              "5                 13.0                  40.0   0.9978  3.51       0.56   \n",
              "\n",
              "   alcohol  quality  is_red  \n",
              "0      9.4        5       1  \n",
              "1      9.8        5       1  \n",
              "2      9.8        5       1  \n",
              "3      9.8        6       1  \n",
              "5      9.4        5       1  "
            ]
          },
          "execution_count": 8,
          "metadata": {},
          "output_type": "execute_result"
        }
      ],
      "source": [
        "red_df.head()"
      ]
    },
    {
      "cell_type": "code",
      "execution_count": null,
      "metadata": {
        "id": "eev-DRPWiqSL",
        "outputId": "4d4dd4ae-c355-4fe6-d94c-5e9d8e3559f0"
      },
      "outputs": [
        {
          "data": {
            "text/html": [
              "<div>\n",
              "<style scoped>\n",
              "    .dataframe tbody tr th:only-of-type {\n",
              "        vertical-align: middle;\n",
              "    }\n",
              "\n",
              "    .dataframe tbody tr th {\n",
              "        vertical-align: top;\n",
              "    }\n",
              "\n",
              "    .dataframe thead th {\n",
              "        text-align: right;\n",
              "    }\n",
              "</style>\n",
              "<table border=\"1\" class=\"dataframe\">\n",
              "  <thead>\n",
              "    <tr style=\"text-align: right;\">\n",
              "      <th></th>\n",
              "      <th>fixed acidity</th>\n",
              "      <th>volatile acidity</th>\n",
              "      <th>citric acid</th>\n",
              "      <th>residual sugar</th>\n",
              "      <th>chlorides</th>\n",
              "      <th>free sulfur dioxide</th>\n",
              "      <th>total sulfur dioxide</th>\n",
              "      <th>density</th>\n",
              "      <th>pH</th>\n",
              "      <th>sulphates</th>\n",
              "      <th>alcohol</th>\n",
              "      <th>quality</th>\n",
              "      <th>is_red</th>\n",
              "    </tr>\n",
              "  </thead>\n",
              "  <tbody>\n",
              "    <tr>\n",
              "      <th>0</th>\n",
              "      <td>7.0</td>\n",
              "      <td>0.27</td>\n",
              "      <td>0.36</td>\n",
              "      <td>20.7</td>\n",
              "      <td>0.045</td>\n",
              "      <td>45.0</td>\n",
              "      <td>170.0</td>\n",
              "      <td>1.0010</td>\n",
              "      <td>3.00</td>\n",
              "      <td>0.45</td>\n",
              "      <td>8.8</td>\n",
              "      <td>6</td>\n",
              "      <td>0</td>\n",
              "    </tr>\n",
              "    <tr>\n",
              "      <th>1</th>\n",
              "      <td>6.3</td>\n",
              "      <td>0.30</td>\n",
              "      <td>0.34</td>\n",
              "      <td>1.6</td>\n",
              "      <td>0.049</td>\n",
              "      <td>14.0</td>\n",
              "      <td>132.0</td>\n",
              "      <td>0.9940</td>\n",
              "      <td>3.30</td>\n",
              "      <td>0.49</td>\n",
              "      <td>9.5</td>\n",
              "      <td>6</td>\n",
              "      <td>0</td>\n",
              "    </tr>\n",
              "    <tr>\n",
              "      <th>2</th>\n",
              "      <td>8.1</td>\n",
              "      <td>0.28</td>\n",
              "      <td>0.40</td>\n",
              "      <td>6.9</td>\n",
              "      <td>0.050</td>\n",
              "      <td>30.0</td>\n",
              "      <td>97.0</td>\n",
              "      <td>0.9951</td>\n",
              "      <td>3.26</td>\n",
              "      <td>0.44</td>\n",
              "      <td>10.1</td>\n",
              "      <td>6</td>\n",
              "      <td>0</td>\n",
              "    </tr>\n",
              "    <tr>\n",
              "      <th>3</th>\n",
              "      <td>7.2</td>\n",
              "      <td>0.23</td>\n",
              "      <td>0.32</td>\n",
              "      <td>8.5</td>\n",
              "      <td>0.058</td>\n",
              "      <td>47.0</td>\n",
              "      <td>186.0</td>\n",
              "      <td>0.9956</td>\n",
              "      <td>3.19</td>\n",
              "      <td>0.40</td>\n",
              "      <td>9.9</td>\n",
              "      <td>6</td>\n",
              "      <td>0</td>\n",
              "    </tr>\n",
              "    <tr>\n",
              "      <th>6</th>\n",
              "      <td>6.2</td>\n",
              "      <td>0.32</td>\n",
              "      <td>0.16</td>\n",
              "      <td>7.0</td>\n",
              "      <td>0.045</td>\n",
              "      <td>30.0</td>\n",
              "      <td>136.0</td>\n",
              "      <td>0.9949</td>\n",
              "      <td>3.18</td>\n",
              "      <td>0.47</td>\n",
              "      <td>9.6</td>\n",
              "      <td>6</td>\n",
              "      <td>0</td>\n",
              "    </tr>\n",
              "  </tbody>\n",
              "</table>\n",
              "</div>"
            ],
            "text/plain": [
              "   fixed acidity  volatile acidity  citric acid  residual sugar  chlorides  \\\n",
              "0            7.0              0.27         0.36            20.7      0.045   \n",
              "1            6.3              0.30         0.34             1.6      0.049   \n",
              "2            8.1              0.28         0.40             6.9      0.050   \n",
              "3            7.2              0.23         0.32             8.5      0.058   \n",
              "6            6.2              0.32         0.16             7.0      0.045   \n",
              "\n",
              "   free sulfur dioxide  total sulfur dioxide  density    pH  sulphates  \\\n",
              "0                 45.0                 170.0   1.0010  3.00       0.45   \n",
              "1                 14.0                 132.0   0.9940  3.30       0.49   \n",
              "2                 30.0                  97.0   0.9951  3.26       0.44   \n",
              "3                 47.0                 186.0   0.9956  3.19       0.40   \n",
              "6                 30.0                 136.0   0.9949  3.18       0.47   \n",
              "\n",
              "   alcohol  quality  is_red  \n",
              "0      8.8        6       0  \n",
              "1      9.5        6       0  \n",
              "2     10.1        6       0  \n",
              "3      9.9        6       0  \n",
              "6      9.6        6       0  "
            ]
          },
          "execution_count": 9,
          "metadata": {},
          "output_type": "execute_result"
        }
      ],
      "source": [
        "white_df.head()"
      ]
    },
    {
      "cell_type": "code",
      "execution_count": null,
      "metadata": {
        "id": "YpQrOjJbfN3m"
      },
      "outputs": [],
      "source": [
        "# Concatates horizontally\n",
        "df = pd.concat([red_df, white_df], ignore_index=True)"
      ]
    },
    {
      "cell_type": "code",
      "execution_count": null,
      "metadata": {
        "id": "Se2dTmThQyjb",
        "outputId": "f93b4781-4af7-42ff-a1ca-2c2f96d5357a"
      },
      "outputs": [
        {
          "name": "stdout",
          "output_type": "stream",
          "text": [
            "9.4\n",
            "9.5\n"
          ]
        }
      ],
      "source": [
        "print(df.alcohol[0])\n",
        "print(df.alcohol[100])\n",
        "\n",
        "# EXPECTED OUTPUT\n",
        "# 9.4\n",
        "# 9.5"
      ]
    },
    {
      "cell_type": "markdown",
      "metadata": {
        "id": "7rsXnDqUiqSM"
      },
      "source": [
        "In a real-world scenario, you should shuffle the data. For this assignment however, **you are not** going to do that because the grader needs to test with deterministic data. If you want the code to do it **after** you've gotten your grade for this notebook, we left the commented line below for reference"
      ]
    },
    {
      "cell_type": "code",
      "execution_count": null,
      "metadata": {
        "id": "wx6y3rPpQv4k"
      },
      "outputs": [],
      "source": [
        "#df = df.iloc[np.random.permutation(len(df))]"
      ]
    },
    {
      "cell_type": "markdown",
      "metadata": {
        "id": "-EqIcbg5M_n1"
      },
      "source": [
        "This will chart the quality of the wines."
      ]
    },
    {
      "cell_type": "code",
      "execution_count": null,
      "metadata": {
        "id": "IsvK0-Sgy17C",
        "outputId": "f73185da-7e85-4644-8242-35122ccc89d5"
      },
      "outputs": [
        {
          "data": {
            "image/png": "[encoded data removed]",
            "text/plain": [
              "<Figure size 432x288 with 1 Axes>"
            ]
          },
          "metadata": {
            "needs_background": "light"
          },
          "output_type": "display_data"
        }
      ],
      "source": [
        "df['quality'].hist(bins=20);"
      ]
    },
    {
      "cell_type": "markdown",
      "metadata": {
        "id": "Nut1rmYLzf-p"
      },
      "source": [
        "### Imbalanced data (TODO)\n",
        "You can see from the plot above that the wine quality dataset is imbalanced.\n",
        "- Since there are very few observations with quality equal to 3, 4, 8 and 9, you can drop these observations from your dataset.\n",
        "- You can do this by removing data belonging to all classes except those > 4 and < 8."
      ]
    },
    {
      "cell_type": "code",
      "execution_count": null,
      "metadata": {
        "deletable": false,
        "id": "doH9_-gnf3sz",
        "nbgrader": {
          "cell_type": "code",
          "checksum": "d9ba9fc3a3ca02ccc567be33652b80fe",
          "grade": false,
          "grade_id": "cell-6a3e9db696f6827b",
          "locked": false,
          "schema_version": 3,
          "solution": true,
          "task": false
        }
      },
      "outputs": [],
      "source": [
        "# Please uncomment all lines in this cell and replace those marked with `# YOUR CODE HERE`.\n",
        "# You can select all lines in this code cell with Ctrl+A (Windows/Linux) or Cmd+A (Mac), then press Ctrl+/ (Windows/Linux) or Cmd+/ (Mac) to uncomment.\n",
        "\n",
        "\n",
        "\n",
        "# get data with wine quality greater than 4 and less than 8\n",
        "df = df[(df['quality'] > 4) & (df['quality'] < 8)]\n",
        "\n",
        "# reset index and drop the old one\n",
        "df = df.reset_index(drop=True)"
      ]
    },
    {
      "cell_type": "code",
      "execution_count": null,
      "metadata": {
        "deletable": false,
        "editable": false,
        "nbgrader": {
          "cell_type": "code",
          "checksum": "281e1d86a4803560ed5892cd7eda4c01",
          "grade": true,
          "grade_id": "cell-aed3da719d4682c7",
          "locked": true,
          "points": 1,
          "schema_version": 3,
          "solution": false,
          "task": false
        },
        "id": "Ct18X-84iqSN",
        "outputId": "a36ace93-0b1a-4e92-94df-919dcf422594"
      },
      "outputs": [
        {
          "name": "stdout",
          "output_type": "stream",
          "text": [
            "\u001b[92m All public tests passed\n"
          ]
        }
      ],
      "source": [
        "utils.test_df_drop(df)\n",
        "\n"
      ]
    },
    {
      "cell_type": "code",
      "execution_count": null,
      "metadata": {
        "id": "xNR1iAlMRPXO",
        "outputId": "a1f1f8c5-5754-4e75-d5a9-588d7eae18cf"
      },
      "outputs": [
        {
          "name": "stdout",
          "output_type": "stream",
          "text": [
            "9.4\n",
            "10.9\n"
          ]
        }
      ],
      "source": [
        "print(df.alcohol[0])\n",
        "print(df.alcohol[100])\n",
        "\n",
        "# EXPECTED OUTPUT\n",
        "# 9.4\n",
        "# 10.9"
      ]
    },
    {
      "cell_type": "markdown",
      "metadata": {
        "id": "cwhuRpnVRTzG"
      },
      "source": [
        "You can plot again to see the new range of data and quality"
      ]
    },
    {
      "cell_type": "code",
      "execution_count": null,
      "metadata": {
        "id": "857ygzZiLgGg",
        "outputId": "cff6b3be-8a8d-4dab-999a-5f6fbe62e7de"
      },
      "outputs": [
        {
          "data": {
            "image/png": "[encoded data removed]",
            "text/plain": [
              "<Figure size 432x288 with 1 Axes>"
            ]
          },
          "metadata": {
            "needs_background": "light"
          },
          "output_type": "display_data"
        }
      ],
      "source": [
        "df['quality'].hist(bins=20);"
      ]
    },
    {
      "cell_type": "markdown",
      "metadata": {
        "id": "n3k0vqSsp84t"
      },
      "source": [
        "### Train Test Split (TODO)\n",
        "\n",
        "Next, you can split the datasets into training, test and validation datasets.\n",
        "- The data frame should be split 80:20 into `train` and `test` sets.\n",
        "- The resulting `train` should then be split 80:20 into `train` and `val` sets.\n",
        "- The `train_test_split` parameter `test_size` takes a float value that ranges between 0. and 1, and represents the proportion of the dataset that is allocated to the test set.  The rest of the data is allocated to the training set."
      ]
    },
    {
      "cell_type": "code",
      "execution_count": null,
      "metadata": {
        "deletable": false,
        "id": "PAVIf2-fgRVY",
        "nbgrader": {
          "cell_type": "code",
          "checksum": "7f5738f4fb51d65adc9a8acbdf2b9970",
          "grade": false,
          "grade_id": "cell-91946cadf745206b",
          "locked": false,
          "schema_version": 3,
          "solution": true,
          "task": false
        }
      },
      "outputs": [],
      "source": [
        "# Please uncomment all lines in this cell and replace those marked with `# YOUR CODE HERE`.\n",
        "# You can select all lines in this code cell with Ctrl+A (Windows/Linux) or Cmd+A (Mac), then press Ctrl+/ (Windows/Linux) or Cmd+/ (Mac) to uncomment.\n",
        "\n",
        "\n",
        "\n",
        "# Please do not change the random_state parameter. This is needed for grading.\n",
        "\n",
        "# split df into 80:20 train and test sets\n",
        "train, test = train_test_split(df, test_size=0.2, random_state = 1)\n",
        "\n",
        "# split train into 80:20 train and val sets\n",
        "train, val = train_test_split(train, test_size=0.2, random_state = 1)"
      ]
    },
    {
      "cell_type": "code",
      "execution_count": null,
      "metadata": {
        "deletable": false,
        "editable": false,
        "id": "57h9LcEzRWpk",
        "nbgrader": {
          "cell_type": "code",
          "checksum": "42adbe9e66efac7c7a5f8cd73ac92f22",
          "grade": true,
          "grade_id": "cell-64b8b38cd0b965f6",
          "locked": true,
          "points": 1,
          "schema_version": 3,
          "solution": false,
          "task": false
        },
        "outputId": "b416ebd5-df78-452a-a247-7ea788d63348"
      },
      "outputs": [
        {
          "name": "stdout",
          "output_type": "stream",
          "text": [
            "\u001b[92m All public tests passed\n"
          ]
        }
      ],
      "source": [
        "utils.test_data_sizes(train.size, test.size, val.size)\n",
        "\n"
      ]
    },
    {
      "cell_type": "markdown",
      "metadata": {
        "id": "RwTNu4KFqG-K"
      },
      "source": [
        "Here's where you can explore the training stats. You can pop the labels 'is_red' and 'quality' from the data as these will be used as the labels\n"
      ]
    },
    {
      "cell_type": "code",
      "execution_count": null,
      "metadata": {
        "id": "Y_afyhhHM6WQ"
      },
      "outputs": [],
      "source": [
        "train_stats = train.describe()\n",
        "train_stats.pop('is_red')\n",
        "train_stats.pop('quality')\n",
        "train_stats = train_stats.transpose()"
      ]
    },
    {
      "cell_type": "markdown",
      "metadata": {
        "id": "ahvbYm4fNqSt"
      },
      "source": [
        "Explore the training stats!"
      ]
    },
    {
      "cell_type": "code",
      "execution_count": null,
      "metadata": {
        "id": "n_gAtPjZ0otF",
        "outputId": "30034ce2-0b30-4734-d2b9-abeeec4efcf2"
      },
      "outputs": [
        {
          "data": {
            "text/html": [
              "<div>\n",
              "<style scoped>\n",
              "    .dataframe tbody tr th:only-of-type {\n",
              "        vertical-align: middle;\n",
              "    }\n",
              "\n",
              "    .dataframe tbody tr th {\n",
              "        vertical-align: top;\n",
              "    }\n",
              "\n",
              "    .dataframe thead th {\n",
              "        text-align: right;\n",
              "    }\n",
              "</style>\n",
              "<table border=\"1\" class=\"dataframe\">\n",
              "  <thead>\n",
              "    <tr style=\"text-align: right;\">\n",
              "      <th></th>\n",
              "      <th>count</th>\n",
              "      <th>mean</th>\n",
              "      <th>std</th>\n",
              "      <th>min</th>\n",
              "      <th>25%</th>\n",
              "      <th>50%</th>\n",
              "      <th>75%</th>\n",
              "      <th>max</th>\n",
              "    </tr>\n",
              "  </thead>\n",
              "  <tbody>\n",
              "    <tr>\n",
              "      <th>fixed acidity</th>\n",
              "      <td>3155.0</td>\n",
              "      <td>7.221616</td>\n",
              "      <td>1.325297</td>\n",
              "      <td>3.80000</td>\n",
              "      <td>6.40000</td>\n",
              "      <td>7.00000</td>\n",
              "      <td>7.7000</td>\n",
              "      <td>15.60000</td>\n",
              "    </tr>\n",
              "    <tr>\n",
              "      <th>volatile acidity</th>\n",
              "      <td>3155.0</td>\n",
              "      <td>0.338929</td>\n",
              "      <td>0.162476</td>\n",
              "      <td>0.08000</td>\n",
              "      <td>0.23000</td>\n",
              "      <td>0.29000</td>\n",
              "      <td>0.4000</td>\n",
              "      <td>1.24000</td>\n",
              "    </tr>\n",
              "    <tr>\n",
              "      <th>citric acid</th>\n",
              "      <td>3155.0</td>\n",
              "      <td>0.321569</td>\n",
              "      <td>0.147970</td>\n",
              "      <td>0.00000</td>\n",
              "      <td>0.25000</td>\n",
              "      <td>0.31000</td>\n",
              "      <td>0.4000</td>\n",
              "      <td>1.66000</td>\n",
              "    </tr>\n",
              "    <tr>\n",
              "      <th>residual sugar</th>\n",
              "      <td>3155.0</td>\n",
              "      <td>5.155911</td>\n",
              "      <td>4.639632</td>\n",
              "      <td>0.60000</td>\n",
              "      <td>1.80000</td>\n",
              "      <td>2.80000</td>\n",
              "      <td>7.6500</td>\n",
              "      <td>65.80000</td>\n",
              "    </tr>\n",
              "    <tr>\n",
              "      <th>chlorides</th>\n",
              "      <td>3155.0</td>\n",
              "      <td>0.056976</td>\n",
              "      <td>0.036802</td>\n",
              "      <td>0.01200</td>\n",
              "      <td>0.03800</td>\n",
              "      <td>0.04700</td>\n",
              "      <td>0.0660</td>\n",
              "      <td>0.61100</td>\n",
              "    </tr>\n",
              "    <tr>\n",
              "      <th>free sulfur dioxide</th>\n",
              "      <td>3155.0</td>\n",
              "      <td>30.388590</td>\n",
              "      <td>17.236784</td>\n",
              "      <td>1.00000</td>\n",
              "      <td>17.00000</td>\n",
              "      <td>28.00000</td>\n",
              "      <td>41.0000</td>\n",
              "      <td>131.00000</td>\n",
              "    </tr>\n",
              "    <tr>\n",
              "      <th>total sulfur dioxide</th>\n",
              "      <td>3155.0</td>\n",
              "      <td>115.062282</td>\n",
              "      <td>56.706617</td>\n",
              "      <td>6.00000</td>\n",
              "      <td>75.00000</td>\n",
              "      <td>117.00000</td>\n",
              "      <td>156.0000</td>\n",
              "      <td>344.00000</td>\n",
              "    </tr>\n",
              "    <tr>\n",
              "      <th>density</th>\n",
              "      <td>3155.0</td>\n",
              "      <td>0.994633</td>\n",
              "      <td>0.003005</td>\n",
              "      <td>0.98711</td>\n",
              "      <td>0.99232</td>\n",
              "      <td>0.99481</td>\n",
              "      <td>0.9968</td>\n",
              "      <td>1.03898</td>\n",
              "    </tr>\n",
              "    <tr>\n",
              "      <th>pH</th>\n",
              "      <td>3155.0</td>\n",
              "      <td>3.223201</td>\n",
              "      <td>0.161272</td>\n",
              "      <td>2.72000</td>\n",
              "      <td>3.11000</td>\n",
              "      <td>3.21000</td>\n",
              "      <td>3.3300</td>\n",
              "      <td>4.01000</td>\n",
              "    </tr>\n",
              "    <tr>\n",
              "      <th>sulphates</th>\n",
              "      <td>3155.0</td>\n",
              "      <td>0.534051</td>\n",
              "      <td>0.149149</td>\n",
              "      <td>0.22000</td>\n",
              "      <td>0.43000</td>\n",
              "      <td>0.51000</td>\n",
              "      <td>0.6000</td>\n",
              "      <td>1.95000</td>\n",
              "    </tr>\n",
              "    <tr>\n",
              "      <th>alcohol</th>\n",
              "      <td>3155.0</td>\n",
              "      <td>10.504466</td>\n",
              "      <td>1.154654</td>\n",
              "      <td>8.50000</td>\n",
              "      <td>9.50000</td>\n",
              "      <td>10.30000</td>\n",
              "      <td>11.3000</td>\n",
              "      <td>14.00000</td>\n",
              "    </tr>\n",
              "  </tbody>\n",
              "</table>\n",
              "</div>"
            ],
            "text/plain": [
              "                       count        mean        std      min       25%  \\\n",
              "fixed acidity         3155.0    7.221616   1.325297  3.80000   6.40000   \n",
              "volatile acidity      3155.0    0.338929   0.162476  0.08000   0.23000   \n",
              "citric acid           3155.0    0.321569   0.147970  0.00000   0.25000   \n",
              "residual sugar        3155.0    5.155911   4.639632  0.60000   1.80000   \n",
              "chlorides             3155.0    0.056976   0.036802  0.01200   0.03800   \n",
              "free sulfur dioxide   3155.0   30.388590  17.236784  1.00000  17.00000   \n",
              "total sulfur dioxide  3155.0  115.062282  56.706617  6.00000  75.00000   \n",
              "density               3155.0    0.994633   0.003005  0.98711   0.99232   \n",
              "pH                    3155.0    3.223201   0.161272  2.72000   3.11000   \n",
              "sulphates             3155.0    0.534051   0.149149  0.22000   0.43000   \n",
              "alcohol               3155.0   10.504466   1.154654  8.50000   9.50000   \n",
              "\n",
              "                            50%       75%        max  \n",
              "fixed acidity           7.00000    7.7000   15.60000  \n",
              "volatile acidity        0.29000    0.4000    1.24000  \n",
              "citric acid             0.31000    0.4000    1.66000  \n",
              "residual sugar          2.80000    7.6500   65.80000  \n",
              "chlorides               0.04700    0.0660    0.61100  \n",
              "free sulfur dioxide    28.00000   41.0000  131.00000  \n",
              "total sulfur dioxide  117.00000  156.0000  344.00000  \n",
              "density                 0.99481    0.9968    1.03898  \n",
              "pH                      3.21000    3.3300    4.01000  \n",
              "sulphates               0.51000    0.6000    1.95000  \n",
              "alcohol                10.30000   11.3000   14.00000  "
            ]
          },
          "execution_count": 21,
          "metadata": {},
          "output_type": "execute_result"
        }
      ],
      "source": [
        "train_stats"
      ]
    },
    {
      "cell_type": "markdown",
      "metadata": {
        "id": "bGPvt9jir_HC"
      },
      "source": [
        "### Get the labels (TODO)\n",
        "\n",
        "The features and labels are currently in the same dataframe.\n",
        "- You will want to store the label columns `is_red` and `quality` separately from the feature columns.  \n",
        "- The following function, `format_output`, gets these two columns from the dataframe (it's given to you).\n",
        "- `format_output` also formats the data into numpy arrays.\n",
        "- Please use the `format_output` and apply it to the `train`, `val` and `test` sets to get dataframes for the labels."
      ]
    },
    {
      "cell_type": "code",
      "execution_count": null,
      "metadata": {
        "id": "Z_fs14XQqZVP"
      },
      "outputs": [],
      "source": [
        "def format_output(data):\n",
        "    is_red = data.pop('is_red')\n",
        "    is_red = np.array(is_red)\n",
        "    quality = data.pop('quality')\n",
        "    quality = np.array(quality)\n",
        "    return (quality, is_red)"
      ]
    },
    {
      "cell_type": "code",
      "execution_count": null,
      "metadata": {
        "deletable": false,
        "id": "8L3ZZe1fQicm",
        "nbgrader": {
          "cell_type": "code",
          "checksum": "7a86809e54895a816434c48dc903f55d",
          "grade": false,
          "grade_id": "cell-5c30fa2c2a354b0f",
          "locked": false,
          "schema_version": 3,
          "solution": true,
          "task": false
        }
      },
      "outputs": [],
      "source": [
        "# Please uncomment all lines in this cell and replace those marked with `# YOUR CODE HERE`.\n",
        "# You can select all lines in this code cell with Ctrl+A (Windows/Linux) or Cmd+A (Mac), then press Ctrl+/ (Windows/Linux) or Cmd+/ (Mac) to uncomment.\n",
        "\n",
        "\n",
        "\n",
        "# format the output of the train set\n",
        "train_Y = format_output(train)\n",
        "\n",
        "# format the output of the val set\n",
        "val_Y = format_output(val)\n",
        "\n",
        "# format the output of the test set\n",
        "test_Y = format_output(test)"
      ]
    },
    {
      "cell_type": "code",
      "execution_count": null,
      "metadata": {
        "deletable": false,
        "editable": false,
        "nbgrader": {
          "cell_type": "code",
          "checksum": "359cabbafaed14ec9bbc1e57a7b6f32c",
          "grade": true,
          "grade_id": "cell-4977d8befb80f56b",
          "locked": true,
          "points": 1,
          "schema_version": 3,
          "solution": false,
          "task": false
        },
        "id": "kb0VH9tfiqSR",
        "outputId": "d688ea71-b10b-4557-a99a-b1388bb24688"
      },
      "outputs": [
        {
          "name": "stdout",
          "output_type": "stream",
          "text": [
            "\u001b[92m All public tests passed\n"
          ]
        }
      ],
      "source": [
        "utils.test_format_output(df, train_Y, val_Y, test_Y)"
      ]
    },
    {
      "cell_type": "markdown",
      "metadata": {
        "id": "e4FngU1biqSR"
      },
      "source": [
        "Notice that after you get the labels, the `train`, `val` and `test` dataframes no longer contain the label columns, and contain just the feature columns.\n",
        "- This is because you used `.pop` in the `format_output` function."
      ]
    },
    {
      "cell_type": "code",
      "execution_count": null,
      "metadata": {
        "id": "AZm-2WB2iqSR",
        "outputId": "3167869d-98f5-46d8-b0f9-68de789f442d"
      },
      "outputs": [
        {
          "data": {
            "text/html": [
              "<div>\n",
              "<style scoped>\n",
              "    .dataframe tbody tr th:only-of-type {\n",
              "        vertical-align: middle;\n",
              "    }\n",
              "\n",
              "    .dataframe tbody tr th {\n",
              "        vertical-align: top;\n",
              "    }\n",
              "\n",
              "    .dataframe thead th {\n",
              "        text-align: right;\n",
              "    }\n",
              "</style>\n",
              "<table border=\"1\" class=\"dataframe\">\n",
              "  <thead>\n",
              "    <tr style=\"text-align: right;\">\n",
              "      <th></th>\n",
              "      <th>fixed acidity</th>\n",
              "      <th>volatile acidity</th>\n",
              "      <th>citric acid</th>\n",
              "      <th>residual sugar</th>\n",
              "      <th>chlorides</th>\n",
              "      <th>free sulfur dioxide</th>\n",
              "      <th>total sulfur dioxide</th>\n",
              "      <th>density</th>\n",
              "      <th>pH</th>\n",
              "      <th>sulphates</th>\n",
              "      <th>alcohol</th>\n",
              "    </tr>\n",
              "  </thead>\n",
              "  <tbody>\n",
              "    <tr>\n",
              "      <th>225</th>\n",
              "      <td>7.5</td>\n",
              "      <td>0.65</td>\n",
              "      <td>0.18</td>\n",
              "      <td>7.0</td>\n",
              "      <td>0.088</td>\n",
              "      <td>27.0</td>\n",
              "      <td>94.0</td>\n",
              "      <td>0.99915</td>\n",
              "      <td>3.38</td>\n",
              "      <td>0.77</td>\n",
              "      <td>9.4</td>\n",
              "    </tr>\n",
              "    <tr>\n",
              "      <th>3557</th>\n",
              "      <td>6.3</td>\n",
              "      <td>0.27</td>\n",
              "      <td>0.29</td>\n",
              "      <td>12.2</td>\n",
              "      <td>0.044</td>\n",
              "      <td>59.0</td>\n",
              "      <td>196.0</td>\n",
              "      <td>0.99782</td>\n",
              "      <td>3.14</td>\n",
              "      <td>0.40</td>\n",
              "      <td>8.8</td>\n",
              "    </tr>\n",
              "    <tr>\n",
              "      <th>3825</th>\n",
              "      <td>8.8</td>\n",
              "      <td>0.27</td>\n",
              "      <td>0.25</td>\n",
              "      <td>5.0</td>\n",
              "      <td>0.024</td>\n",
              "      <td>52.0</td>\n",
              "      <td>99.0</td>\n",
              "      <td>0.99250</td>\n",
              "      <td>2.87</td>\n",
              "      <td>0.49</td>\n",
              "      <td>11.4</td>\n",
              "    </tr>\n",
              "    <tr>\n",
              "      <th>1740</th>\n",
              "      <td>6.4</td>\n",
              "      <td>0.45</td>\n",
              "      <td>0.07</td>\n",
              "      <td>1.1</td>\n",
              "      <td>0.030</td>\n",
              "      <td>10.0</td>\n",
              "      <td>131.0</td>\n",
              "      <td>0.99050</td>\n",
              "      <td>2.97</td>\n",
              "      <td>0.28</td>\n",
              "      <td>10.8</td>\n",
              "    </tr>\n",
              "    <tr>\n",
              "      <th>1221</th>\n",
              "      <td>7.2</td>\n",
              "      <td>0.53</td>\n",
              "      <td>0.13</td>\n",
              "      <td>2.0</td>\n",
              "      <td>0.058</td>\n",
              "      <td>18.0</td>\n",
              "      <td>22.0</td>\n",
              "      <td>0.99573</td>\n",
              "      <td>3.21</td>\n",
              "      <td>0.68</td>\n",
              "      <td>9.9</td>\n",
              "    </tr>\n",
              "  </tbody>\n",
              "</table>\n",
              "</div>"
            ],
            "text/plain": [
              "      fixed acidity  volatile acidity  citric acid  residual sugar  chlorides  \\\n",
              "225             7.5              0.65         0.18             7.0      0.088   \n",
              "3557            6.3              0.27         0.29            12.2      0.044   \n",
              "3825            8.8              0.27         0.25             5.0      0.024   \n",
              "1740            6.4              0.45         0.07             1.1      0.030   \n",
              "1221            7.2              0.53         0.13             2.0      0.058   \n",
              "\n",
              "      free sulfur dioxide  total sulfur dioxide  density    pH  sulphates  \\\n",
              "225                  27.0                  94.0  0.99915  3.38       0.77   \n",
              "3557                 59.0                 196.0  0.99782  3.14       0.40   \n",
              "3825                 52.0                  99.0  0.99250  2.87       0.49   \n",
              "1740                 10.0                 131.0  0.99050  2.97       0.28   \n",
              "1221                 18.0                  22.0  0.99573  3.21       0.68   \n",
              "\n",
              "      alcohol  \n",
              "225       9.4  \n",
              "3557      8.8  \n",
              "3825     11.4  \n",
              "1740     10.8  \n",
              "1221      9.9  "
            ]
          },
          "execution_count": 25,
          "metadata": {},
          "output_type": "execute_result"
        }
      ],
      "source": [
        "train.head()"
      ]
    },
    {
      "cell_type": "markdown",
      "metadata": {
        "id": "hEdbrruAsN1D"
      },
      "source": [
        "### Normalize the data (TODO)\n",
        "\n",
        "Next, you can normalize the data, x, using the formula:\n",
        "$$x_{norm} = \\frac{x - \\mu}{\\sigma}$$\n",
        "- The `norm` function is defined for you.\n",
        "- Please apply the `norm` function to normalize the dataframes that contains the feature columns of `train`, `val` and `test` sets."
      ]
    },
    {
      "cell_type": "code",
      "execution_count": null,
      "metadata": {
        "id": "WWiZPAHCLjUs"
      },
      "outputs": [],
      "source": [
        "def norm(x):\n",
        "    return (x - train_stats['mean']) / train_stats['std']"
      ]
    },
    {
      "cell_type": "code",
      "execution_count": null,
      "metadata": {
        "deletable": false,
        "id": "JEaOi2I2Lk69",
        "nbgrader": {
          "cell_type": "code",
          "checksum": "6bc0cdcb563d192f271067aa3373ff32",
          "grade": false,
          "grade_id": "cell-d8416d975c371095",
          "locked": false,
          "schema_version": 3,
          "solution": true,
          "task": false
        }
      },
      "outputs": [],
      "source": [
        "# Please uncomment all lines in this cell and replace those marked with `# YOUR CODE HERE`.\n",
        "# You can select all lines in this code cell with Ctrl+A (Windows/Linux) or Cmd+A (Mac), then press Ctrl+/ (Windows/Linux) or Cmd+/ (Mac) to uncomment.\n",
        "\n",
        "\n",
        "\n",
        "# normalize the train set\n",
        "norm_train_X = norm(train)\n",
        "\n",
        "# normalize the val set\n",
        "norm_val_X = norm(val)\n",
        "\n",
        "# normalize the test set\n",
        "norm_test_X = norm(test)"
      ]
    },
    {
      "cell_type": "code",
      "execution_count": null,
      "metadata": {
        "deletable": false,
        "editable": false,
        "nbgrader": {
          "cell_type": "code",
          "checksum": "4f567db45bf40191601780379cc100b8",
          "grade": true,
          "grade_id": "cell-97fad979d157529b",
          "locked": true,
          "points": 1,
          "schema_version": 3,
          "solution": false,
          "task": false
        },
        "id": "oTPHZAEdiqSY",
        "outputId": "1e908951-50bc-409e-cf42-cb29ab486352"
      },
      "outputs": [
        {
          "name": "stdout",
          "output_type": "stream",
          "text": [
            "\u001b[92m All public tests passed\n"
          ]
        }
      ],
      "source": [
        "utils.test_norm(norm_train_X, norm_val_X, norm_test_X, train, val, test)\n"
      ]
    },
    {
      "cell_type": "markdown",
      "metadata": {
        "id": "hzykDwQhsaPO"
      },
      "source": [
        "## Define the Model (TODO)\n",
        "\n",
        "Define the model using the functional API. The base model will be 2 `Dense` layers of 128 neurons each, and have the `'relu'` activation.\n",
        "- Check out the documentation for [tf.keras.layers.Dense](https://www.tensorflow.org/api_docs/python/tf/keras/layers/Dense)"
      ]
    },
    {
      "cell_type": "code",
      "execution_count": null,
      "metadata": {
        "deletable": false,
        "id": "Rhcns3oTFkM6",
        "nbgrader": {
          "cell_type": "code",
          "checksum": "74b031247e569526552bf13a034a1c07",
          "grade": false,
          "grade_id": "cell-73fceedad1fe351c",
          "locked": false,
          "schema_version": 3,
          "solution": true,
          "task": false
        }
      },
      "outputs": [],
      "source": [
        "# Please uncomment all lines in this cell and replace those marked with `# YOUR CODE HERE`.\n",
        "# You can select all lines in this code cell with Ctrl+A (Windows/Linux) or Cmd+A (Mac), then press Ctrl+/ (Windows/Linux) or Cmd+/ (Mac) to uncomment.\n",
        "\n",
        "\n",
        "\n",
        "def base_model(inputs):\n",
        "\n",
        "    # connect a Dense layer with 128 neurons and a relu activation\n",
        "    x = Dense(units=128, activation='relu')(inputs)\n",
        "\n",
        "    # connect another Dense layer with 128 neurons and a relu activation\n",
        "    x = Dense(units=128, activation='relu')(x)\n",
        "    return x\n",
        ""
      ]
    },
    {
      "cell_type": "code",
      "execution_count": null,
      "metadata": {
        "deletable": false,
        "editable": false,
        "nbgrader": {
          "cell_type": "code",
          "checksum": "9255924b3def80f679616e4c851a43e1",
          "grade": true,
          "grade_id": "cell-54f742a133353d75",
          "locked": true,
          "points": 1,
          "schema_version": 3,
          "solution": false,
          "task": false
        },
        "id": "XC6nJL8BiqSY",
        "outputId": "0a1acd47-c52f-4935-b425-45e5f0b0cdd6"
      },
      "outputs": [
        {
          "name": "stdout",
          "output_type": "stream",
          "text": [
            "\u001b[92m All public tests passed\n"
          ]
        }
      ],
      "source": [
        "utils.test_base_model(base_model)"
      ]
    },
    {
      "cell_type": "markdown",
      "metadata": {
        "id": "xem_fcVws6Kz"
      },
      "source": [
        "# Define output layers of the model (TODO)\n",
        "\n",
        "You will add output layers to the base model.\n",
        "- The model will need two outputs.\n",
        "\n",
        "One output layer will predict wine quality, which is a numeric value.\n",
        "- Define a `Dense` layer with 1 neuron.\n",
        "- Since this is a regression output, the activation can be left as its default value `None`.\n",
        "\n",
        "The other output layer will predict the wine type, which is either red `1` or not red `0` (white).\n",
        "- Define a `Dense` layer with 1 neuron.\n",
        "- Since there are two possible categories, you can use a sigmoid activation for binary classification.\n",
        "\n",
        "Define the `Model`\n",
        "- Define the `Model` object, and set the following parameters:\n",
        "  - `inputs`: pass in the inputs to the model as a list.\n",
        "  - `outputs`: pass in a list of the outputs that you just defined: wine quality, then wine type.\n",
        "  - **Note**: please list the wine quality before wine type in the outputs, as this will affect the calculated loss if you choose the other order."
      ]
    },
    {
      "cell_type": "code",
      "execution_count": null,
      "metadata": {
        "deletable": false,
        "id": "n5UGF8PMVLPt",
        "nbgrader": {
          "cell_type": "code",
          "checksum": "76d35b90d20cdcbb22986cd8211057de",
          "grade": false,
          "grade_id": "cell-19e285f482f021fb",
          "locked": false,
          "schema_version": 3,
          "solution": true,
          "task": false
        }
      },
      "outputs": [],
      "source": [
        "# Please uncomment all lines in this cell and replace those marked with `# YOUR CODE HERE`.\n",
        "# You can select all lines in this code cell with Ctrl+A (Windows/Linux) or Cmd+A (Mac), then press Ctrl+/ (Windows/Linux) or Cmd+/ (Mac) to uncomment.\n",
        "\n",
        "\n",
        "\n",
        "def final_model(inputs):\n",
        "\n",
        "    # get the base model\n",
        "    x = base_model(inputs)\n",
        "\n",
        "    # connect the output Dense layer for regression\n",
        "    wine_quality = Dense(units='1', name='wine_quality')(x)\n",
        "\n",
        "    # connect the output Dense layer for classification. this will use a sigmoid activation.\n",
        "    wine_type = Dense(units='1', activation='sigmoid', name='wine_type')(x)\n",
        "\n",
        "    # define the model using the input and output layers\n",
        "    model = Model(inputs=inputs, outputs=[wine_quality, wine_type])\n",
        "\n",
        "    return model"
      ]
    },
    {
      "cell_type": "code",
      "execution_count": null,
      "metadata": {
        "deletable": false,
        "editable": false,
        "nbgrader": {
          "cell_type": "code",
          "checksum": "89cbf89d8ab5e2e59ecf7f63f517520a",
          "grade": true,
          "grade_id": "cell-40d050f855c817d1",
          "locked": true,
          "points": 1,
          "schema_version": 3,
          "solution": false,
          "task": false
        },
        "id": "TFc3f57QiqSZ",
        "outputId": "4073253f-ca0b-4d92-a879-97d6701651d3"
      },
      "outputs": [
        {
          "name": "stdout",
          "output_type": "stream",
          "text": [
            "\u001b[92m All public tests passed\n"
          ]
        }
      ],
      "source": [
        "utils.test_final_model(final_model)"
      ]
    },
    {
      "cell_type": "markdown",
      "metadata": {
        "id": "5R0BMTsltZyu"
      },
      "source": [
        "## Compiling the Model\n",
        "\n",
        "Next, compile the model. When setting the loss parameter of `model.compile`, you're setting the loss for each of the two outputs (wine quality and wine type).\n",
        "\n",
        "To set more than one loss, use a dictionary of key-value pairs.\n",
        "- You can look at the docs for the losses [here](https://www.tensorflow.org/api_docs/python/tf/keras/losses#functions).\n",
        "    - **Note**: For the desired spelling, please look at the \"Functions\" section of the documentation and not the \"classes\" section on that same page.\n",
        "- wine_type: Since you will be performing binary classification on wine type, you should use the binary crossentropy loss function for it.  Please pass this in as a string.  \n",
        "  - **Hint**, this should be all lowercase.  In the documentation, you'll see this under the \"Functions\" section, not the \"Classes\" section.\n",
        "- wine_quality: since this is a regression output, use the mean squared error.  Please pass it in as a string, all lowercase.\n",
        "  - **Hint**: You may notice that there are two aliases for mean squared error.  Please use the shorter name.\n",
        "\n",
        "\n",
        "You will also set the metric for each of the two outputs.  Again, to set metrics for two or more outputs, use a dictionary with key value pairs.\n",
        "- The metrics documentation is linked [here](https://www.tensorflow.org/api_docs/python/tf/keras/metrics).\n",
        "- For the wine type, please set it to accuracy as a string, all lowercase.\n",
        "- For wine quality, please use the root mean squared error.  Instead of a string, you'll set it to an instance of the class [RootMeanSquaredError](https://www.tensorflow.org/api_docs/python/tf/keras/metrics/RootMeanSquaredError), which belongs to the tf.keras.metrics module.\n",
        "\n",
        "**Note**: If you see the error message\n",
        ">Exception: wine quality loss function is incorrect.\n",
        "\n",
        "- Please also check your other losses and metrics, as the error may be caused by the other three key-value pairs and not the wine quality loss."
      ]
    },
    {
      "cell_type": "code",
      "execution_count": null,
      "metadata": {
        "deletable": false,
        "id": "LK11duUbUjmh",
        "nbgrader": {
          "cell_type": "code",
          "checksum": "22f45067ca69eb2ccadb43874dbcc27b",
          "grade": false,
          "grade_id": "cell-81afdc4dcca51d5e",
          "locked": false,
          "schema_version": 3,
          "solution": true,
          "task": false
        }
      },
      "outputs": [],
      "source": [
        "# Please uncomment all lines in this cell and replace those marked with `# YOUR CODE HERE`.\n",
        "# You can select all lines in this code cell with Ctrl+A (Windows/Linux) or Cmd+A (Mac), then press Ctrl+/ (Windows/Linux) or Cmd+/ (Mac) to uncomment.\n",
        "\n",
        "\n",
        "\n",
        "inputs = tf.keras.layers.Input(shape=(11,))\n",
        "rms = tf.keras.optimizers.RMSprop(lr=0.0001)\n",
        "model = final_model(inputs)\n",
        "\n",
        "model.compile(optimizer=rms,\n",
        "              loss = {'wine_type' : 'binary_crossentropy',\n",
        "                      'wine_quality' : 'mse'\n",
        "                     },\n",
        "              metrics = {'wine_type' : 'accuracy',\n",
        "                         'wine_quality': tf.keras.metrics.RootMeanSquaredError()\n",
        "                       }\n",
        "             )\n"
      ]
    },
    {
      "cell_type": "code",
      "execution_count": null,
      "metadata": {
        "deletable": false,
        "editable": false,
        "nbgrader": {
          "cell_type": "code",
          "checksum": "88e02238ea5e456ff65e835cc8158054",
          "grade": true,
          "grade_id": "cell-2eeeba02391c4632",
          "locked": true,
          "points": 1,
          "schema_version": 3,
          "solution": false,
          "task": false
        },
        "id": "a_JLHovyiqSa",
        "outputId": "cfe2a616-0483-4878-91bf-6d20848825b6"
      },
      "outputs": [
        {
          "name": "stdout",
          "output_type": "stream",
          "text": [
            "\u001b[92m All public tests passed\n"
          ]
        }
      ],
      "source": [
        "utils.test_model_compile(model)"
      ]
    },
    {
      "cell_type": "markdown",
      "metadata": {
        "id": "90MpAMpWuKm-"
      },
      "source": [
        "## Training the Model (TODO)\n",
        "\n",
        "Fit the model to the training inputs and outputs.\n",
        "- Check the documentation for [model.fit](https://www.tensorflow.org/api_docs/python/tf/keras/Model#fit).\n",
        "- Remember to use the normalized training set as inputs.\n",
        "- For the validation data, please use the normalized validation set.\n",
        "\n",
        "**Important: Please do not increase the number of epochs below. This is to avoid the grader from timing out. You can increase it once you have submitted your work.**"
      ]
    },
    {
      "cell_type": "code",
      "execution_count": null,
      "metadata": {
        "deletable": false,
        "id": "_eiZkle4XwiY",
        "nbgrader": {
          "cell_type": "code",
          "checksum": "d1a4565296017a0611c6f2de675f96cf",
          "grade": false,
          "grade_id": "cell-0bb56262896f6680",
          "locked": false,
          "schema_version": 3,
          "solution": true,
          "task": false
        },
        "outputId": "21959167-5cf4-4fa1-df45-beaaa8b7a553"
      },
      "outputs": [
        {
          "name": "stdout",
          "output_type": "stream",
          "text": [
            "Train on 3155 samples, validate on 789 samples\n",
            "Epoch 1/40\n",
            "3155/3155 [==============================] - 2s 480us/sample - loss: 25.2334 - wine_quality_loss: 24.5681 - wine_type_loss: 0.6386 - wine_quality_root_mean_squared_error: 4.9593 - wine_type_accuracy: 0.6552 - val_loss: 17.5766 - val_wine_quality_loss: 17.0147 - val_wine_type_loss: 0.5772 - val_wine_quality_root_mean_squared_error: 4.1231 - val_wine_type_accuracy: 0.7782\n",
            "Epoch 2/40\n",
            "3155/3155 [==============================] - 0s 152us/sample - loss: 11.6958 - wine_quality_loss: 11.1461 - wine_type_loss: 0.5214 - wine_quality_root_mean_squared_error: 3.3428 - wine_type_accuracy: 0.8143 - val_loss: 6.5752 - val_wine_quality_loss: 6.1333 - val_wine_type_loss: 0.4803 - val_wine_quality_root_mean_squared_error: 2.4688 - val_wine_type_accuracy: 0.8264\n",
            "Epoch 3/40\n",
            "3155/3155 [==============================] - 0s 135us/sample - loss: 4.3905 - wine_quality_loss: 3.9549 - wine_type_loss: 0.4276 - wine_quality_root_mean_squared_error: 1.9907 - wine_type_accuracy: 0.8361 - val_loss: 3.0809 - val_wine_quality_loss: 2.7389 - val_wine_type_loss: 0.3862 - val_wine_quality_root_mean_squared_error: 1.6416 - val_wine_type_accuracy: 0.8593\n",
            "Epoch 4/40\n",
            "3155/3155 [==============================] - 0s 128us/sample - loss: 2.7371 - wine_quality_loss: 2.4080 - wine_type_loss: 0.3317 - wine_quality_root_mean_squared_error: 1.5509 - wine_type_accuracy: 0.8872 - val_loss: 2.4160 - val_wine_quality_loss: 2.1451 - val_wine_type_loss: 0.2999 - val_wine_quality_root_mean_squared_error: 1.4548 - val_wine_type_accuracy: 0.9240\n",
            "Epoch 5/40\n",
            "3155/3155 [==============================] - 0s 128us/sample - loss: 2.2614 - wine_quality_loss: 1.9990 - wine_type_loss: 0.2597 - wine_quality_root_mean_squared_error: 1.4148 - wine_type_accuracy: 0.9490 - val_loss: 2.0597 - val_wine_quality_loss: 1.8417 - val_wine_type_loss: 0.2376 - val_wine_quality_root_mean_squared_error: 1.3499 - val_wine_type_accuracy: 0.9696\n",
            "Epoch 6/40\n",
            "3155/3155 [==============================] - 0s 145us/sample - loss: 1.9684 - wine_quality_loss: 1.7616 - wine_type_loss: 0.2051 - wine_quality_root_mean_squared_error: 1.3280 - wine_type_accuracy: 0.9731 - val_loss: 1.8154 - val_wine_quality_loss: 1.6412 - val_wine_type_loss: 0.1875 - val_wine_quality_root_mean_squared_error: 1.2759 - val_wine_type_accuracy: 0.9810\n",
            "Epoch 7/40\n",
            "3155/3155 [==============================] - 0s 131us/sample - loss: 1.7654 - wine_quality_loss: 1.6023 - wine_type_loss: 0.1630 - wine_quality_root_mean_squared_error: 1.2659 - wine_type_accuracy: 0.9816 - val_loss: 1.6381 - val_wine_quality_loss: 1.4962 - val_wine_type_loss: 0.1506 - val_wine_quality_root_mean_squared_error: 1.2196 - val_wine_type_accuracy: 0.9848\n",
            "Epoch 8/40\n",
            "3155/3155 [==============================] - 0s 131us/sample - loss: 1.6081 - wine_quality_loss: 1.4719 - wine_type_loss: 0.1328 - wine_quality_root_mean_squared_error: 1.2146 - wine_type_accuracy: 0.9854 - val_loss: 1.5040 - val_wine_quality_loss: 1.3868 - val_wine_type_loss: 0.1232 - val_wine_quality_root_mean_squared_error: 1.1751 - val_wine_type_accuracy: 0.9848\n",
            "Epoch 9/40\n",
            "3155/3155 [==============================] - 0s 125us/sample - loss: 1.4890 - wine_quality_loss: 1.3748 - wine_type_loss: 0.1108 - wine_quality_root_mean_squared_error: 1.1739 - wine_type_accuracy: 0.9873 - val_loss: 1.4024 - val_wine_quality_loss: 1.3024 - val_wine_type_loss: 0.1034 - val_wine_quality_root_mean_squared_error: 1.1397 - val_wine_type_accuracy: 0.9886\n",
            "Epoch 10/40\n",
            "3155/3155 [==============================] - 0s 125us/sample - loss: 1.3764 - wine_quality_loss: 1.2821 - wine_type_loss: 0.0949 - wine_quality_root_mean_squared_error: 1.1322 - wine_type_accuracy: 0.9889 - val_loss: 1.2911 - val_wine_quality_loss: 1.2045 - val_wine_type_loss: 0.0887 - val_wine_quality_root_mean_squared_error: 1.0965 - val_wine_type_accuracy: 0.9886\n",
            "Epoch 11/40\n",
            "3155/3155 [==============================] - 0s 126us/sample - loss: 1.2818 - wine_quality_loss: 1.1988 - wine_type_loss: 0.0827 - wine_quality_root_mean_squared_error: 1.0950 - wine_type_accuracy: 0.9895 - val_loss: 1.2068 - val_wine_quality_loss: 1.1303 - val_wine_type_loss: 0.0780 - val_wine_quality_root_mean_squared_error: 1.0624 - val_wine_type_accuracy: 0.9886\n",
            "Epoch 12/40\n",
            "3155/3155 [==============================] - 0s 127us/sample - loss: 1.2033 - wine_quality_loss: 1.1282 - wine_type_loss: 0.0738 - wine_quality_root_mean_squared_error: 1.0628 - wine_type_accuracy: 0.9905 - val_loss: 1.1335 - val_wine_quality_loss: 1.0648 - val_wine_type_loss: 0.0690 - val_wine_quality_root_mean_squared_error: 1.0317 - val_wine_type_accuracy: 0.9886\n",
            "Epoch 13/40\n",
            "3155/3155 [==============================] - 0s 125us/sample - loss: 1.1255 - wine_quality_loss: 1.0593 - wine_type_loss: 0.0665 - wine_quality_root_mean_squared_error: 1.0290 - wine_type_accuracy: 0.9908 - val_loss: 1.0663 - val_wine_quality_loss: 1.0034 - val_wine_type_loss: 0.0626 - val_wine_quality_root_mean_squared_error: 1.0017 - val_wine_type_accuracy: 0.9899\n",
            "Epoch 14/40\n",
            "3155/3155 [==============================] - 0s 133us/sample - loss: 1.0596 - wine_quality_loss: 0.9979 - wine_type_loss: 0.0612 - wine_quality_root_mean_squared_error: 0.9991 - wine_type_accuracy: 0.9911 - val_loss: 1.0043 - val_wine_quality_loss: 0.9464 - val_wine_type_loss: 0.0578 - val_wine_quality_root_mean_squared_error: 0.9728 - val_wine_type_accuracy: 0.9911\n",
            "Epoch 15/40\n",
            "3155/3155 [==============================] - 0s 145us/sample - loss: 0.9963 - wine_quality_loss: 0.9407 - wine_type_loss: 0.0571 - wine_quality_root_mean_squared_error: 0.9691 - wine_type_accuracy: 0.9914 - val_loss: 0.9405 - val_wine_quality_loss: 0.8865 - val_wine_type_loss: 0.0537 - val_wine_quality_root_mean_squared_error: 0.9416 - val_wine_type_accuracy: 0.9911\n",
            "Epoch 16/40\n",
            "3155/3155 [==============================] - 0s 128us/sample - loss: 0.9407 - wine_quality_loss: 0.8895 - wine_type_loss: 0.0539 - wine_quality_root_mean_squared_error: 0.9417 - wine_type_accuracy: 0.9918 - val_loss: 0.8945 - val_wine_quality_loss: 0.8430 - val_wine_type_loss: 0.0503 - val_wine_quality_root_mean_squared_error: 0.9186 - val_wine_type_accuracy: 0.9911\n",
            "Epoch 17/40\n",
            "3155/3155 [==============================] - 0s 124us/sample - loss: 0.8912 - wine_quality_loss: 0.8394 - wine_type_loss: 0.0510 - wine_quality_root_mean_squared_error: 0.9166 - wine_type_accuracy: 0.9921 - val_loss: 0.8477 - val_wine_quality_loss: 0.7984 - val_wine_type_loss: 0.0478 - val_wine_quality_root_mean_squared_error: 0.8942 - val_wine_type_accuracy: 0.9911\n",
            "Epoch 18/40\n",
            "3155/3155 [==============================] - 0s 128us/sample - loss: 0.8434 - wine_quality_loss: 0.7939 - wine_type_loss: 0.0486 - wine_quality_root_mean_squared_error: 0.8915 - wine_type_accuracy: 0.9921 - val_loss: 0.7942 - val_wine_quality_loss: 0.7472 - val_wine_type_loss: 0.0455 - val_wine_quality_root_mean_squared_error: 0.8651 - val_wine_type_accuracy: 0.9937\n",
            "Epoch 19/40\n",
            "3155/3155 [==============================] - 0s 126us/sample - loss: 0.7971 - wine_quality_loss: 0.7506 - wine_type_loss: 0.0469 - wine_quality_root_mean_squared_error: 0.8663 - wine_type_accuracy: 0.9927 - val_loss: 0.7589 - val_wine_quality_loss: 0.7138 - val_wine_type_loss: 0.0436 - val_wine_quality_root_mean_squared_error: 0.8456 - val_wine_type_accuracy: 0.9937\n",
            "Epoch 20/40\n",
            "3155/3155 [==============================] - 0s 138us/sample - loss: 0.7554 - wine_quality_loss: 0.7091 - wine_type_loss: 0.0449 - wine_quality_root_mean_squared_error: 0.8428 - wine_type_accuracy: 0.9924 - val_loss: 0.7149 - val_wine_quality_loss: 0.6712 - val_wine_type_loss: 0.0422 - val_wine_quality_root_mean_squared_error: 0.8200 - val_wine_type_accuracy: 0.9937\n",
            "Epoch 21/40\n",
            "3155/3155 [==============================] - 0s 123us/sample - loss: 0.7191 - wine_quality_loss: 0.6745 - wine_type_loss: 0.0436 - wine_quality_root_mean_squared_error: 0.8219 - wine_type_accuracy: 0.9924 - val_loss: 0.6768 - val_wine_quality_loss: 0.6340 - val_wine_type_loss: 0.0410 - val_wine_quality_root_mean_squared_error: 0.7972 - val_wine_type_accuracy: 0.9949\n",
            "Epoch 22/40\n",
            "3155/3155 [==============================] - 0s 130us/sample - loss: 0.6841 - wine_quality_loss: 0.6412 - wine_type_loss: 0.0423 - wine_quality_root_mean_squared_error: 0.8011 - wine_type_accuracy: 0.9924 - val_loss: 0.6522 - val_wine_quality_loss: 0.6109 - val_wine_type_loss: 0.0398 - val_wine_quality_root_mean_squared_error: 0.7823 - val_wine_type_accuracy: 0.9962\n",
            "Epoch 23/40\n",
            "3155/3155 [==============================] - 0s 143us/sample - loss: 0.6514 - wine_quality_loss: 0.6102 - wine_type_loss: 0.0411 - wine_quality_root_mean_squared_error: 0.7811 - wine_type_accuracy: 0.9924 - val_loss: 0.6155 - val_wine_quality_loss: 0.5750 - val_wine_type_loss: 0.0389 - val_wine_quality_root_mean_squared_error: 0.7592 - val_wine_type_accuracy: 0.9962\n",
            "Epoch 24/40\n",
            "3155/3155 [==============================] - 0s 112us/sample - loss: 0.6241 - wine_quality_loss: 0.5832 - wine_type_loss: 0.0403 - wine_quality_root_mean_squared_error: 0.7641 - wine_type_accuracy: 0.9927 - val_loss: 0.5867 - val_wine_quality_loss: 0.5468 - val_wine_type_loss: 0.0380 - val_wine_quality_root_mean_squared_error: 0.7405 - val_wine_type_accuracy: 0.9962\n",
            "Epoch 25/40\n",
            "3155/3155 [==============================] - 0s 110us/sample - loss: 0.5957 - wine_quality_loss: 0.5558 - wine_type_loss: 0.0393 - wine_quality_root_mean_squared_error: 0.7458 - wine_type_accuracy: 0.9927 - val_loss: 0.5637 - val_wine_quality_loss: 0.5244 - val_wine_type_loss: 0.0373 - val_wine_quality_root_mean_squared_error: 0.7253 - val_wine_type_accuracy: 0.9962\n",
            "Epoch 26/40\n",
            "3155/3155 [==============================] - 0s 124us/sample - loss: 0.5711 - wine_quality_loss: 0.5324 - wine_type_loss: 0.0385 - wine_quality_root_mean_squared_error: 0.7298 - wine_type_accuracy: 0.9927 - val_loss: 0.5425 - val_wine_quality_loss: 0.5043 - val_wine_type_loss: 0.0368 - val_wine_quality_root_mean_squared_error: 0.7109 - val_wine_type_accuracy: 0.9962\n",
            "Epoch 27/40\n",
            "3155/3155 [==============================] - 0s 121us/sample - loss: 0.5457 - wine_quality_loss: 0.5079 - wine_type_loss: 0.0377 - wine_quality_root_mean_squared_error: 0.7126 - wine_type_accuracy: 0.9927 - val_loss: 0.5193 - val_wine_quality_loss: 0.4811 - val_wine_type_loss: 0.0362 - val_wine_quality_root_mean_squared_error: 0.6948 - val_wine_type_accuracy: 0.9962\n",
            "Epoch 28/40\n",
            "3155/3155 [==============================] - 0s 123us/sample - loss: 0.5250 - wine_quality_loss: 0.4882 - wine_type_loss: 0.0370 - wine_quality_root_mean_squared_error: 0.6985 - wine_type_accuracy: 0.9930 - val_loss: 0.5051 - val_wine_quality_loss: 0.4671 - val_wine_type_loss: 0.0356 - val_wine_quality_root_mean_squared_error: 0.6849 - val_wine_type_accuracy: 0.9949\n",
            "Epoch 29/40\n",
            "3155/3155 [==============================] - 0s 125us/sample - loss: 0.5045 - wine_quality_loss: 0.4680 - wine_type_loss: 0.0364 - wine_quality_root_mean_squared_error: 0.6841 - wine_type_accuracy: 0.9927 - val_loss: 0.4764 - val_wine_quality_loss: 0.4398 - val_wine_type_loss: 0.0352 - val_wine_quality_root_mean_squared_error: 0.6640 - val_wine_type_accuracy: 0.9949\n",
            "Epoch 30/40\n",
            "3155/3155 [==============================] - 0s 110us/sample - loss: 0.4859 - wine_quality_loss: 0.4503 - wine_type_loss: 0.0362 - wine_quality_root_mean_squared_error: 0.6708 - wine_type_accuracy: 0.9927 - val_loss: 0.4754 - val_wine_quality_loss: 0.4388 - val_wine_type_loss: 0.0350 - val_wine_quality_root_mean_squared_error: 0.6634 - val_wine_type_accuracy: 0.9949\n",
            "Epoch 31/40\n",
            "3155/3155 [==============================] - 0s 125us/sample - loss: 0.4709 - wine_quality_loss: 0.4347 - wine_type_loss: 0.0353 - wine_quality_root_mean_squared_error: 0.6598 - wine_type_accuracy: 0.9927 - val_loss: 0.4508 - val_wine_quality_loss: 0.4148 - val_wine_type_loss: 0.0346 - val_wine_quality_root_mean_squared_error: 0.6448 - val_wine_type_accuracy: 0.9949\n",
            "Epoch 32/40\n",
            "3155/3155 [==============================] - 0s 119us/sample - loss: 0.4553 - wine_quality_loss: 0.4204 - wine_type_loss: 0.0348 - wine_quality_root_mean_squared_error: 0.6484 - wine_type_accuracy: 0.9927 - val_loss: 0.4382 - val_wine_quality_loss: 0.4020 - val_wine_type_loss: 0.0343 - val_wine_quality_root_mean_squared_error: 0.6352 - val_wine_type_accuracy: 0.9949\n",
            "Epoch 33/40\n",
            "3155/3155 [==============================] - 0s 127us/sample - loss: 0.4420 - wine_quality_loss: 0.4076 - wine_type_loss: 0.0345 - wine_quality_root_mean_squared_error: 0.6384 - wine_type_accuracy: 0.9930 - val_loss: 0.4217 - val_wine_quality_loss: 0.3859 - val_wine_type_loss: 0.0341 - val_wine_quality_root_mean_squared_error: 0.6223 - val_wine_type_accuracy: 0.9949\n",
            "Epoch 34/40\n",
            "3155/3155 [==============================] - 0s 118us/sample - loss: 0.4288 - wine_quality_loss: 0.3941 - wine_type_loss: 0.0340 - wine_quality_root_mean_squared_error: 0.6283 - wine_type_accuracy: 0.9927 - val_loss: 0.4061 - val_wine_quality_loss: 0.3706 - val_wine_type_loss: 0.0340 - val_wine_quality_root_mean_squared_error: 0.6098 - val_wine_type_accuracy: 0.9949\n",
            "Epoch 35/40\n",
            "3155/3155 [==============================] - 0s 110us/sample - loss: 0.4184 - wine_quality_loss: 0.3849 - wine_type_loss: 0.0335 - wine_quality_root_mean_squared_error: 0.6203 - wine_type_accuracy: 0.9933 - val_loss: 0.4007 - val_wine_quality_loss: 0.3653 - val_wine_type_loss: 0.0337 - val_wine_quality_root_mean_squared_error: 0.6055 - val_wine_type_accuracy: 0.9949\n",
            "Epoch 36/40\n",
            "3155/3155 [==============================] - 0s 125us/sample - loss: 0.4093 - wine_quality_loss: 0.3752 - wine_type_loss: 0.0331 - wine_quality_root_mean_squared_error: 0.6133 - wine_type_accuracy: 0.9937 - val_loss: 0.4018 - val_wine_quality_loss: 0.3667 - val_wine_type_loss: 0.0334 - val_wine_quality_root_mean_squared_error: 0.6066 - val_wine_type_accuracy: 0.9949\n",
            "Epoch 37/40\n",
            "3155/3155 [==============================] - 0s 126us/sample - loss: 0.4011 - wine_quality_loss: 0.3683 - wine_type_loss: 0.0327 - wine_quality_root_mean_squared_error: 0.6069 - wine_type_accuracy: 0.9940 - val_loss: 0.3883 - val_wine_quality_loss: 0.3536 - val_wine_type_loss: 0.0333 - val_wine_quality_root_mean_squared_error: 0.5955 - val_wine_type_accuracy: 0.9949\n",
            "Epoch 38/40\n",
            "3155/3155 [==============================] - 0s 128us/sample - loss: 0.3924 - wine_quality_loss: 0.3595 - wine_type_loss: 0.0324 - wine_quality_root_mean_squared_error: 0.5999 - wine_type_accuracy: 0.9937 - val_loss: 0.3877 - val_wine_quality_loss: 0.3530 - val_wine_type_loss: 0.0332 - val_wine_quality_root_mean_squared_error: 0.5950 - val_wine_type_accuracy: 0.9949\n",
            "Epoch 39/40\n",
            "3155/3155 [==============================] - 0s 123us/sample - loss: 0.3843 - wine_quality_loss: 0.3521 - wine_type_loss: 0.0320 - wine_quality_root_mean_squared_error: 0.5934 - wine_type_accuracy: 0.9940 - val_loss: 0.3842 - val_wine_quality_loss: 0.3494 - val_wine_type_loss: 0.0331 - val_wine_quality_root_mean_squared_error: 0.5923 - val_wine_type_accuracy: 0.9949\n",
            "Epoch 40/40\n",
            "3155/3155 [==============================] - 0s 120us/sample - loss: 0.3809 - wine_quality_loss: 0.3493 - wine_type_loss: 0.0320 - wine_quality_root_mean_squared_error: 0.5908 - wine_type_accuracy: 0.9943 - val_loss: 0.3697 - val_wine_quality_loss: 0.3354 - val_wine_type_loss: 0.0329 - val_wine_quality_root_mean_squared_error: 0.5801 - val_wine_type_accuracy: 0.9949\n"
          ]
        }
      ],
      "source": [
        "# Please uncomment all lines in this cell and replace those marked with `# YOUR CODE HERE`.\n",
        "# You can select all lines in this code cell with Ctrl+A (Windows/Linux) or Cmd+A (Mac), then press Ctrl+/ (Windows/Linux) or Cmd+/ (Mac) to uncomment.\n",
        "\n",
        "\n",
        "\n",
        "history = model.fit(x= norm_train_X, y=train_Y,\n",
        "                    epochs = 40, validation_data=(norm_val_X, val_Y))"
      ]
    },
    {
      "cell_type": "code",
      "execution_count": null,
      "metadata": {
        "deletable": false,
        "editable": false,
        "nbgrader": {
          "cell_type": "code",
          "checksum": "fadad8896eda9c8c2115970724b15508",
          "grade": true,
          "grade_id": "cell-eb4d5b41bef8f0ab",
          "locked": true,
          "points": 1,
          "schema_version": 3,
          "solution": false,
          "task": false
        },
        "id": "4pbTcJR_iqSc",
        "outputId": "ed6f1bb0-df46-4e8e-f193-7dc6d442c3d6"
      },
      "outputs": [
        {
          "name": "stdout",
          "output_type": "stream",
          "text": [
            "\u001b[92m All public tests passed\n"
          ]
        }
      ],
      "source": [
        "utils.test_history(history)"
      ]
    },
    {
      "cell_type": "code",
      "execution_count": null,
      "metadata": {
        "id": "CubF2J2gSf6q",
        "outputId": "cc6acb68-0c32-4f49-eb6e-3a372a8a892f"
      },
      "outputs": [
        {
          "name": "stdout",
          "output_type": "stream",
          "text": [
            "789/789 [==============================] - 0s 71us/sample - loss: 0.3697 - wine_quality_loss: 0.3354 - wine_type_loss: 0.0329 - wine_quality_root_mean_squared_error: 0.5801 - wine_type_accuracy: 0.9949\n",
            "\n",
            "loss: 0.36974753921022885\n",
            "wine_quality_loss: 0.3354194760322571\n",
            "wine_type_loss: 0.03285630792379379\n",
            "wine_quality_rmse: 0.5800995230674744\n",
            "wine_type_accuracy: 0.9949302673339844\n"
          ]
        }
      ],
      "source": [
        "# Gather the training metrics\n",
        "loss, wine_quality_loss, wine_type_loss, wine_quality_rmse, wine_type_accuracy = model.evaluate(x=norm_val_X, y=val_Y)\n",
        "\n",
        "print()\n",
        "print(f'loss: {loss}')\n",
        "print(f'wine_quality_loss: {wine_quality_loss}')\n",
        "print(f'wine_type_loss: {wine_type_loss}')\n",
        "print(f'wine_quality_rmse: {wine_quality_rmse}')\n",
        "print(f'wine_type_accuracy: {wine_type_accuracy}')\n",
        "\n",
        "# EXPECTED VALUES\n",
        "# ~ 0.30 - 0.38\n",
        "# ~ 0.30 - 0.38\n",
        "# ~ 0.018 - 0.036\n",
        "# ~ 0.50 - 0.62\n",
        "# ~ 0.97 - 1.0\n",
        "\n",
        "# Example:\n",
        "#0.3657050132751465\n",
        "#0.3463745415210724\n",
        "#0.019330406561493874\n",
        "#0.5885359048843384\n",
        "#0.9974651336669922"
      ]
    },
    {
      "cell_type": "markdown",
      "metadata": {
        "id": "gPtTGAP4usnm"
      },
      "source": [
        "## Analyze the Model Performance\n",
        "\n",
        "Note that the model has two outputs. The output at index 0 is quality and index 1 is wine type\n",
        "\n",
        "So, round the quality predictions to the nearest integer."
      ]
    },
    {
      "cell_type": "code",
      "execution_count": null,
      "metadata": {
        "id": "tBq9PEeAaW-Y"
      },
      "outputs": [],
      "source": [
        "predictions = model.predict(norm_test_X)\n",
        "quality_pred = predictions[0]\n",
        "type_pred = predictions[1]"
      ]
    },
    {
      "cell_type": "code",
      "execution_count": null,
      "metadata": {
        "id": "YLhgTR4xTIxj",
        "outputId": "f8196ed0-be8d-4326-c08b-f807393c393c"
      },
      "outputs": [
        {
          "name": "stdout",
          "output_type": "stream",
          "text": [
            "[5.7175784]\n"
          ]
        }
      ],
      "source": [
        "print(quality_pred[0])\n",
        "\n",
        "# EXPECTED OUTPUT\n",
        "# 5.4 - 6.0"
      ]
    },
    {
      "cell_type": "code",
      "execution_count": null,
      "metadata": {
        "id": "MPi-eYfGTUXi",
        "outputId": "69b881e2-f77e-4915-e909-4e914ce92ec5"
      },
      "outputs": [
        {
          "name": "stdout",
          "output_type": "stream",
          "text": [
            "[0.00840467]\n",
            "[0.9998128]\n"
          ]
        }
      ],
      "source": [
        "print(type_pred[0])\n",
        "print(type_pred[944])\n",
        "\n",
        "# EXPECTED OUTPUT\n",
        "# A number close to zero\n",
        "# A number close to or equal to 1"
      ]
    },
    {
      "cell_type": "markdown",
      "metadata": {
        "id": "Kohk-9C6vt_s"
      },
      "source": [
        "### Plot Utilities\n",
        "\n",
        "We define a few utilities to visualize the model performance."
      ]
    },
    {
      "cell_type": "code",
      "execution_count": null,
      "metadata": {
        "id": "62gEOFUhn6aQ"
      },
      "outputs": [],
      "source": [
        "def plot_metrics(metric_name, title, ylim=5):\n",
        "    plt.title(title)\n",
        "    plt.ylim(0,ylim)\n",
        "    plt.plot(history.history[metric_name],color='blue',label=metric_name)\n",
        "    plt.plot(history.history['val_' + metric_name],color='green',label='val_' + metric_name)\n"
      ]
    },
    {
      "cell_type": "code",
      "execution_count": null,
      "metadata": {
        "id": "6rfgSx7uz5dj"
      },
      "outputs": [],
      "source": [
        "def plot_confusion_matrix(y_true, y_pred, title='', labels=[0,1]):\n",
        "    cm = confusion_matrix(test_Y[1], np.round(type_pred), labels=[0, 1])\n",
        "    disp = ConfusionMatrixDisplay(confusion_matrix=cm,\n",
        "                                  display_labels=[0, 1])\n",
        "    disp.plot(values_format='d');"
      ]
    },
    {
      "cell_type": "code",
      "execution_count": null,
      "metadata": {
        "id": "dfVLIqi017Vf"
      },
      "outputs": [],
      "source": [
        "def plot_diff(y_true, y_pred, title = '' ):\n",
        "    plt.scatter(y_true, y_pred)\n",
        "    plt.title(title)\n",
        "    plt.xlabel('True Values')\n",
        "    plt.ylabel('Predictions')\n",
        "    plt.axis('equal')\n",
        "    plt.axis('square')\n",
        "    plt.plot([-100, 100], [-100, 100])\n",
        "    return plt"
      ]
    },
    {
      "cell_type": "markdown",
      "metadata": {
        "id": "8sd1jdFbwE0I"
      },
      "source": [
        "### Plots for Metrics"
      ]
    },
    {
      "cell_type": "code",
      "execution_count": null,
      "metadata": {
        "id": "f3MwZ5J1pOfj",
        "outputId": "74f86ac6-34f3-4df7-cb06-3846319d6440"
      },
      "outputs": [
        {
          "data": {
            "image/png": "[encoded data removed]",
            "text/plain": [
              "<Figure size 432x288 with 1 Axes>"
            ]
          },
          "metadata": {
            "needs_background": "light"
          },
          "output_type": "display_data"
        }
      ],
      "source": [
        "plot_metrics('wine_quality_root_mean_squared_error', 'RMSE', ylim=2)"
      ]
    },
    {
      "cell_type": "code",
      "execution_count": null,
      "metadata": {
        "id": "QIAxEezCppnd",
        "outputId": "7c7a8a07-ce09-446c-9760-e0e4badf030b"
      },
      "outputs": [
        {
          "data": {
            "image/png": "[encoded data removed]",
            "text/plain": [
              "<Figure size 432x288 with 1 Axes>"
            ]
          },
          "metadata": {
            "needs_background": "light"
          },
          "output_type": "display_data"
        }
      ],
      "source": [
        "plot_metrics('wine_type_loss', 'Wine Type Loss', ylim=0.2)"
      ]
    },
    {
      "cell_type": "markdown",
      "metadata": {
        "id": "uYV9AOAMwI9p"
      },
      "source": [
        "### Plots for Confusion Matrix\n",
        "\n",
        "Plot the confusion matrices for wine type. You can see that the model performs well for prediction of wine type from the confusion matrix and the loss metrics."
      ]
    },
    {
      "cell_type": "code",
      "execution_count": null,
      "metadata": {
        "id": "C3hvTYxIaf3n",
        "outputId": "9c510a15-cb31-48ad-b684-497ffac3f408"
      },
      "outputs": [
        {
          "data": {
            "image/png": "[encoded data removed]",
            "text/plain": [
              "<Figure size 432x288 with 2 Axes>"
            ]
          },
          "metadata": {
            "needs_background": "light"
          },
          "output_type": "display_data"
        }
      ],
      "source": [
        "plot_confusion_matrix(test_Y[1], np.round(type_pred), title='Wine Type', labels = [0, 1])"
      ]
    },
    {
      "cell_type": "code",
      "execution_count": null,
      "metadata": {
        "id": "GW91ym8P2I5y",
        "outputId": "03fa8878-b9ba-4a3c-8010-ba056674c7c2"
      },
      "outputs": [
        {
          "data": {
            "image/png": "[encoded data removed]",
            "text/plain": [
              "<Figure size 432x288 with 1 Axes>"
            ]
          },
          "metadata": {
            "needs_background": "light"
          },
          "output_type": "display_data"
        }
      ],
      "source": [
        "scatter_plot = plot_diff(test_Y[0], quality_pred, title='Type')"
      ]
    },
    {
      "cell_type": "code",
      "execution_count": null,
      "metadata": {
        "id": "X4107sZFiqSg"
      },
      "outputs": [],
      "source": []
    }
  ],
  "metadata": {
    "colab": {
      "provenance": []
    },
    "kernelspec": {
      "display_name": "Python 3",
      "language": "python",
      "name": "python3"
    },
    "language_info": {
      "codemirror_mode": {
        "name": "ipython",
        "version": 3
      },
      "file_extension": ".py",
      "mimetype": "text/x-python",
      "name": "python",
      "nbconvert_exporter": "python",
      "pygments_lexer": "ipython3",
      "version": "3.7.6"
    }
  },
  "nbformat": 4,
  "nbformat_minor": 0
}