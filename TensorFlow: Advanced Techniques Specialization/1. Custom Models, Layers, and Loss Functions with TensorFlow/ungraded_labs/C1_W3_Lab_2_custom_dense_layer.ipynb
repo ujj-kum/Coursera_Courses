{
  "cells": [
    {
      "cell_type": "markdown",
      "metadata": {
        "id": "QjjgURRuQm2S"
      },
      "source": [
        "# Ungraded Lab: Building a Custom Dense Layer\n",
        "\n",
        "In this lab, we'll walk through how to create a custom layer that inherits the [Layer](https://keras.io/api/layers/base_layer/#layer-class) class. Unlike simple Lambda layers you did previously, the custom layer here will contain weights that can be updated during training."
      ]
    },
    {
      "cell_type": "markdown",
      "metadata": {
        "id": "b_Y_4DkzQm2e"
      },
      "source": [
        "## Imports"
      ]
    },
    {
      "cell_type": "code",
      "execution_count": null,
      "metadata": {
        "id": "DpioxwFXD9Is"
      },
      "outputs": [],
      "source": [
        "try:\n",
        "    # %tensorflow_version only exists in Colab.\n",
        "    %tensorflow_version 2.x\n",
        "except Exception:\n",
        "    pass\n",
        "\n",
        "import tensorflow as tf\n",
        "import numpy as np"
      ]
    },
    {
      "cell_type": "markdown",
      "metadata": {
        "id": "S3IZThDpQm2m"
      },
      "source": [
        "### Generating Random Values"
      ]
    },
    {
      "cell_type": "code",
      "execution_count": null,
      "metadata": {
        "id": "Q88ehChYQm2n",
        "outputId": "5720d05e-f01d-46df-9393-8c8d7f92a889"
      },
      "outputs": [
        {
          "data": {
            "text/plain": [
              "<tf.Variable 'kernel:0' shape=(1, 1) dtype=float32, numpy=array([[0.02512412]], dtype=float32)>"
            ]
          },
          "execution_count": 8,
          "metadata": {},
          "output_type": "execute_result"
        }
      ],
      "source": [
        "tf.Variable(initial_value=tf.random_normal_initializer()(shape=(1,1)), trainable=True, name='kernel')"
      ]
    },
    {
      "cell_type": "code",
      "execution_count": null,
      "metadata": {
        "id": "1ntTCywRQm2p",
        "outputId": "f6af4141-e7bf-42af-dcbb-1d319c753e76"
      },
      "outputs": [
        {
          "data": {
            "text/plain": [
              "<tf.Variable 'kernel:0' shape=(2, 3, 4) dtype=float32, numpy=\n",
              "array([[[ 0.03683522, -0.02819085,  0.0062532 ,  0.10051018],\n",
              "        [-0.01880622,  0.05300127,  0.1064155 , -0.01676631],\n",
              "        [ 0.0718755 , -0.06909364,  0.02081036,  0.02745176]],\n",
              "\n",
              "       [[ 0.02685024,  0.07141536, -0.00057344, -0.04381324],\n",
              "        [-0.04393771,  0.0476202 , -0.04062449, -0.04320047],\n",
              "        [ 0.05193632, -0.02480095,  0.03768122,  0.06754293]]],\n",
              "      dtype=float32)>"
            ]
          },
          "execution_count": 10,
          "metadata": {},
          "output_type": "execute_result"
        }
      ],
      "source": [
        "tf.Variable(initial_value=tf.random_normal_initializer()(shape=(2,3,4)), trainable=True, name='kernel')"
      ]
    },
    {
      "cell_type": "markdown",
      "metadata": {
        "id": "8vFNVkJ7Qm2r"
      },
      "source": [
        "## Custom Layer with weights\n",
        "\n",
        "To make custom layer that is trainable, we need to define a class that inherits the [Layer](https://keras.io/api/layers/base_layer/#layer-class) base class from Keras. The Python syntax is shown below in the class declaration. This class requires three functions: `__init__()`, `build()` and `call()`. These ensure that our custom layer has a *state* and *computation* that can be accessed during training or inference."
      ]
    },
    {
      "cell_type": "code",
      "execution_count": null,
      "metadata": {
        "id": "jnVrzRT6BPWl"
      },
      "outputs": [],
      "source": [
        "# inherit from this base class\n",
        "from tensorflow.keras.layers import Layer\n",
        "\n",
        "class SimpleDense(Layer):\n",
        "\n",
        "    def __init__(self, units=32):\n",
        "        '''Initializes the instance attributes'''\n",
        "        super(SimpleDense, self).__init__()\n",
        "        self.units = units\n",
        "\n",
        "    def build(self, input_shape):\n",
        "        print(f\"input_shape = {input_shape}\")\n",
        "        '''Create the state of the layer (weights)'''\n",
        "        # initialize the weights\n",
        "        w_init = tf.random_normal_initializer()\n",
        "        self.w = tf.Variable(name=\"kernel\",\n",
        "            initial_value=w_init(shape=(input_shape[-1], self.units),\n",
        "                                 dtype='float32'),\n",
        "            trainable=True)\n",
        "\n",
        "        # initialize the biases\n",
        "        b_init = tf.zeros_initializer()\n",
        "        self.b = tf.Variable(name=\"bias\",\n",
        "            initial_value=b_init(shape=(self.units,), dtype='float32'),\n",
        "            trainable=True)\n",
        "\n",
        "    def call(self, inputs):\n",
        "        '''Defines the computation from inputs to outputs'''\n",
        "        return tf.matmul(inputs, self.w) + self.b"
      ]
    },
    {
      "cell_type": "markdown",
      "metadata": {
        "id": "T9O2-1JWQm2u"
      },
      "source": [
        "Now we can use our custom layer like below:"
      ]
    },
    {
      "cell_type": "code",
      "execution_count": null,
      "metadata": {
        "id": "slJne8ebQm2u",
        "outputId": "ca8c5a8f-16ee-4918-f51e-aceac9e8ec32"
      },
      "outputs": [
        {
          "name": "stdout",
          "output_type": "stream",
          "text": [
            "input_shape = (3, 3)\n",
            "[<tf.Variable 'simple_dense_3/kernel:0' shape=(3, 1) dtype=float32, numpy=\n",
            "array([[ 0.01356722],\n",
            "       [ 0.01670944],\n",
            "       [-0.05504354]], dtype=float32)>, <tf.Variable 'simple_dense_3/bias:0' shape=(1,) dtype=float32, numpy=array([0.], dtype=float32)>]\n"
          ]
        }
      ],
      "source": [
        "# declare an instance of the class\n",
        "my_dense = SimpleDense(units=1)\n",
        "\n",
        "# define an input and feed into the layer\n",
        "x = tf.ones((3, 3))\n",
        "\n",
        "# This line triggers __call__ from the class\n",
        "y = my_dense(x)\n",
        "\n",
        "# parameters of the base Layer class like `variables` can be used\n",
        "print(my_dense.variables)"
      ]
    },
    {
      "cell_type": "markdown",
      "metadata": {
        "id": "ge0WevTKQm2v"
      },
      "source": [
        "Let's then try using it in simple network:"
      ]
    },
    {
      "cell_type": "code",
      "execution_count": null,
      "metadata": {
        "id": "WwTPJT4DkTyW",
        "outputId": "cb6b76a5-6947-480d-de37-2ec7ead2d088"
      },
      "outputs": [
        {
          "name": "stdout",
          "output_type": "stream",
          "text": [
            "input_shape = (None, 1)\n",
            "[[18.981604]]\n",
            "[<tf.Variable 'sequential_1/simple_dense_4/kernel:0' shape=(1, 1) dtype=float32, numpy=array([[1.9973336]], dtype=float32)>, <tf.Variable 'sequential_1/simple_dense_4/bias:0' shape=(1,) dtype=float32, numpy=array([-0.99173343], dtype=float32)>]\n"
          ]
        }
      ],
      "source": [
        "# define the dataset\n",
        "xs = np.array([-1.0,  0.0, 1.0, 2.0, 3.0, 4.0], dtype=float)\n",
        "ys = np.array([-3.0, -1.0, 1.0, 3.0, 5.0, 7.0], dtype=float)\n",
        "\n",
        "\n",
        "# use the Sequential API to build a model with our custom layer\n",
        "my_layer = SimpleDense(units=1)\n",
        "model = tf.keras.Sequential([my_layer])\n",
        "\n",
        "# configure and train the model\n",
        "model.compile(optimizer='sgd', loss='mean_squared_error')\n",
        "model.fit(xs, ys, epochs=500,verbose=0)\n",
        "\n",
        "# perform inference\n",
        "print(model.predict([10.0]))\n",
        "\n",
        "# see the updated state of the variables\n",
        "print(my_layer.variables)"
      ]
    },
    {
      "cell_type": "code",
      "execution_count": null,
      "metadata": {
        "id": "McCYhG9XQm2x"
      },
      "outputs": [],
      "source": []
    }
  ],
  "metadata": {
    "colab": {
      "provenance": []
    },
    "kernelspec": {
      "display_name": "Python 3",
      "language": "python",
      "name": "python3"
    },
    "language_info": {
      "codemirror_mode": {
        "name": "ipython",
        "version": 3
      },
      "file_extension": ".py",
      "mimetype": "text/x-python",
      "name": "python",
      "nbconvert_exporter": "python",
      "pygments_lexer": "ipython3",
      "version": "3.7.6"
    }
  },
  "nbformat": 4,
  "nbformat_minor": 0
}